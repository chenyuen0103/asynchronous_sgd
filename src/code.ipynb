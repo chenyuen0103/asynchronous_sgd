{
 "cells": [
  {
   "cell_type": "code",
   "execution_count": 1,
   "id": "df16147f",
   "metadata": {
    "ExecuteTime": {
     "end_time": "2024-03-25T18:44:13.797389Z",
     "start_time": "2024-03-25T18:44:13.126684Z"
    }
   },
   "outputs": [],
   "source": [
    "import matplotlib\n",
    "import numpy as np\n",
    "import psutil\n",
    "import ray\n",
    "import os\n",
    "import seaborn as sns\n",
    "import time\n",
    "\n",
    "import matplotlib.pyplot as plt\n",
    "import numpy.linalg as la\n",
    "\n",
    "sns.set(style=\"whitegrid\", context=\"talk\", font_scale=1.2, palette=sns.color_palette(\"bright\"), color_codes=False)\n",
    "matplotlib.rcParams['pdf.fonttype'] = 42\n",
    "matplotlib.rcParams['ps.fonttype'] = 42\n",
    "matplotlib.rcParams['font.family'] = 'sans-serif'\n",
    "matplotlib.rcParams['font.sans-serif'] = 'DejaVu Sans'\n",
    "matplotlib.rcParams['mathtext.fontset'] = 'cm'\n",
    "matplotlib.rcParams['figure.figsize'] = (9, 6)"
   ]
  },
  {
   "cell_type": "code",
   "execution_count": 2,
   "id": "c851e7ba",
   "metadata": {
    "ExecuteTime": {
     "end_time": "2024-03-25T18:44:13.800964Z",
     "start_time": "2024-03-25T18:44:13.799271Z"
    }
   },
   "outputs": [],
   "source": [
    "@ray.remote\n",
    "class ParameterServer(object):\n",
    "    def __init__(self, lr, asynchronous):\n",
    "        self.x = np.zeros(dim)\n",
    "        self.lr = lr\n",
    "        self.asynchronous = asynchronous\n",
    "\n",
    "    def apply_gradients(self, grad, *gradients):\n",
    "        if self.asynchronous:\n",
    "            self.x -= self.lr * grad\n",
    "        else:\n",
    "            summed_gradients = np.sum(gradients, axis=0)\n",
    "            self.x -= self.lr * summed_gradients\n",
    "        return self.x\n",
    "\n",
    "    def get_x(self):\n",
    "        return self.x\n",
    "    \n",
    "    def update_lr(self, lr_coef_mul=1, lr_new=None):\n",
    "        if lr_new is not None:\n",
    "            self.lr = lr_new\n",
    "        else:\n",
    "            self.lr *= lr_coef_mul\n",
    "        \n",
    "    def get_hyperparams(self):\n",
    "        return self.lr, self.asynchronous"
   ]
  },
  {
   "cell_type": "code",
   "execution_count": 3,
   "id": "9a14abf4",
   "metadata": {
    "ExecuteTime": {
     "end_time": "2024-03-25T18:44:13.807353Z",
     "start_time": "2024-03-25T18:44:13.804701Z"
    }
   },
   "outputs": [],
   "source": [
    "def grad_func(x):\n",
    "    return (A@x - b) @ A / n_data\n",
    "\n",
    "def sgrad_func(rng, x):\n",
    "    i = rng.integers(n_data)\n",
    "    return (A[i]@x - b[i]) * A[i]\n",
    "\n",
    "def batch_grad_func(rng, x, batch_size):\n",
    "    idx = rng.choice(n_data, size=batch_size, replace=False)\n",
    "    return (A[idx]@x - b[idx]) @ A[idx] / batch_size\n",
    "\n",
    "@ray.remote\n",
    "class DataWorker(object):\n",
    "    \"\"\"\n",
    "    The class for an individual Ray worker.\n",
    "    Arguments:\n",
    "        lr (float): the stepsize to be used at initialization\n",
    "        label (int, optional): batch size for sampling gradients (default: 1)\n",
    "        seed (int, optional): random seed to generate random variables for reproducibility (default: 0)\n",
    "        bad_worker (bool, optional): if True, the worker will be forced to be slower than others (default: False)\n",
    "    \"\"\"\n",
    "    def __init__(self, lr, batch_size=1, seed=0, bad_worker=False):\n",
    "        self.lr = lr\n",
    "        self.batch_size = batch_size\n",
    "        self.bad_worker = bad_worker\n",
    "        self.rng = np.random.default_rng(seed)\n",
    "\n",
    "    def compute_gradients(self, x):\n",
    "        t0 = time.perf_counter()\n",
    "        if self.batch_size is None:\n",
    "            grad = grad_func(x)\n",
    "        elif self.batch_size == 1:\n",
    "            grad = sgrad_func(self.rng, x)\n",
    "        else:\n",
    "            grad = batch_grad_func(self.rng, x, self.batch_size)\n",
    "        if self.bad_worker:\n",
    "            dt = time.perf_counter() - t0\n",
    "            time.sleep(100 * dt)\n",
    "        return grad\n",
    "    \n",
    "    def update_lr(self, lr_coef_mul=1, lr_new=None):\n",
    "        if lr_new is not None:\n",
    "            self.lr = lr_new\n",
    "        else:\n",
    "            self.lr *= lr_coef_mul\n",
    "        \n",
    "    def get_hyperparams(self):\n",
    "        return self.lr, self.batch_size\n",
    "    \n",
    "    def get_lr(self):\n",
    "        return self.lr"
   ]
  },
  {
   "cell_type": "code",
   "execution_count": 4,
   "id": "60171013-a941-4856-9737-49ac3753dca3",
   "metadata": {
    "ExecuteTime": {
     "end_time": "2024-03-25T18:44:13.809722Z",
     "start_time": "2024-03-25T18:44:13.807371Z"
    }
   },
   "outputs": [],
   "source": [
    "def evaluate(x):\n",
    "    assert len(x) == dim\n",
    "    return 0.5 * np.mean((A @ x - b)**2)"
   ]
  },
  {
   "cell_type": "code",
   "execution_count": 5,
   "id": "1adc7795-d378-4074-9fc7-b4790f94fb57",
   "metadata": {
    "tags": [],
    "ExecuteTime": {
     "end_time": "2024-03-25T18:44:13.816821Z",
     "start_time": "2024-03-25T18:44:13.814615Z"
    }
   },
   "outputs": [],
   "source": [
    "def run(seeds, num_workers, lr, lr_decay=0, iterations=200, asynchronous=True, delay_adaptive=False, it_check=20,\n",
    "        batch_size=1, one_bad_worker=False):\n",
    "    delays_all = []\n",
    "    worker_updates = [0 for i in range(num_workers)]\n",
    "    rng = np.random.default_rng(42)\n",
    "    seeds_workers = [rng.choice(max_seed, size=1, replace=False)[0] for _ in range(num_workers)]\n",
    "    ray.init(ignore_reinit_error=True)\n",
    "    ps = ParameterServer.remote(lr, asynchronous)\n",
    "    workers = [DataWorker.remote(lr=lr, batch_size=batch_size, seed=seeds_workers[i]) for i in range(num_workers)]\n",
    "    print(batch_size)\n",
    "\n",
    "    x = ps.get_x.remote()\n",
    "    if asynchronous:\n",
    "        gradients = {}\n",
    "        worker_last_it = [0 for _ in range(num_workers)]\n",
    "        worker_id_to_num = {}\n",
    "        for e, worker in enumerate(workers):\n",
    "            gradients[worker.compute_gradients.remote(x)] = worker\n",
    "            worker_id_to_num[worker] = e\n",
    "\n",
    "\n",
    "    losses = []\n",
    "    its = []\n",
    "    ts = []\n",
    "    delays = []\n",
    "    t0 = time.perf_counter()\n",
    "    delay = 0\n",
    "    trace = []\n",
    "    grads_per_it = 1 if asynchronous else num_workers\n",
    "\n",
    "    for it in range(iterations * (num_workers if asynchronous else 1)):\n",
    "        n_grads = it * grads_per_it\n",
    "        if asynchronous:\n",
    "            ready_gradient_list, _ = ray.wait(list(gradients))\n",
    "            ready_gradient_id = ready_gradient_list[-1]\n",
    "            worker = gradients.pop(ready_gradient_id)\n",
    "\n",
    "            # Compute and apply gradients.\n",
    "            gradients[worker.compute_gradients.remote(x)] = worker\n",
    "            worker_num = worker_id_to_num[worker]\n",
    "            delay = it - worker_last_it[worker_num]\n",
    "            if delay_adaptive:\n",
    "                lr_new = lr * num_workers / max(num_workers, delay)\n",
    "                ps.update_lr.remote(lr_new=lr_new)\n",
    "            x = ps.apply_gradients.remote(grad=ready_gradient_id)\n",
    "            worker_last_it[worker_num] = it\n",
    "            worker_updates[worker_num] += 1\n",
    "        else:\n",
    "            gradients = [\n",
    "                worker.compute_gradients.remote(x) for worker in workers\n",
    "            ]\n",
    "            # Calculate update after all gradients are available.\n",
    "            x = ps.apply_gradients.remote(None, *gradients)\n",
    "\n",
    "        if it % it_check == 0 or (not asynchronous and it % (max(it_check // num_workers, 1)) == 0):\n",
    "            # print(\"Save at iter: \", it)\n",
    "            # Evaluate the current model.\n",
    "            x = ray.get(ps.get_x.remote())\n",
    "            trace.append(x.copy())\n",
    "            its.append(it)\n",
    "            ts.append(time.perf_counter() - t0)\n",
    "\n",
    "        lr_new = lr / (1 + lr_decay * n_grads)\n",
    "        ps.update_lr.remote(lr_new=lr_new)\n",
    "        t = time.perf_counter()\n",
    "        if asynchronous:\n",
    "            delays.append(delay)\n",
    "\n",
    "    ray.shutdown()\n",
    "    return np.asarray(its), np.asarray(ts), np.asarray([evaluate(x) for x in trace]), np.asarray(delays)"
   ]
  },
  {
   "cell_type": "markdown",
   "id": "c3803ada-57b8-4727-a2a9-5c2ca2c90438",
   "metadata": {},
   "source": [
    "## Parameters"
   ]
  },
  {
   "cell_type": "code",
   "execution_count": 6,
   "id": "1da40485-b55f-4cba-b8f9-07b3e9e99770",
   "metadata": {
    "ExecuteTime": {
     "end_time": "2024-03-25T18:44:13.839423Z",
     "start_time": "2024-03-25T18:44:13.818502Z"
    }
   },
   "outputs": [
    {
     "data": {
      "text/plain": "10"
     },
     "execution_count": 6,
     "metadata": {},
     "output_type": "execute_result"
    }
   ],
   "source": [
    "psutil.cpu_count(logical=True)"
   ]
  },
  {
   "cell_type": "code",
   "execution_count": 7,
   "id": "4c15c4e1-7024-433a-9e12-f72f92d14776",
   "metadata": {
    "ExecuteTime": {
     "end_time": "2024-03-25T18:44:13.858408Z",
     "start_time": "2024-03-25T18:44:13.824099Z"
    }
   },
   "outputs": [],
   "source": [
    "iterations = 800\n",
    "num_workers = 8\n",
    "it_check = 40\n",
    "n_seeds = 5\n",
    "max_seed = 424242\n",
    "rng = np.random.default_rng(42)\n",
    "seeds = [rng.choice(max_seed, size=1, replace=False)[0] for _ in range(n_seeds)]\n",
    "seed_to_run = {}\n",
    "for r, seed in enumerate(seeds):\n",
    "    seed_to_run[seed] = r\n",
    "    \n",
    "n_data = 10000\n",
    "dim = 400\n",
    "batch_size = 256\n",
    "noise_scale = 1e-5\n",
    "A = rng.uniform(size=(n_data, dim)) / np.sqrt(dim)\n",
    "x_rand = rng.normal(size=dim)\n",
    "b = A @ x_rand + noise_scale * rng.normal(size=n_data)"
   ]
  },
  {
   "cell_type": "code",
   "execution_count": 8,
   "id": "edee3c07-2c31-4923-825a-f1315e2b082c",
   "metadata": {
    "ExecuteTime": {
     "end_time": "2024-03-25T18:44:14.239434Z",
     "start_time": "2024-03-25T18:44:13.858393Z"
    }
   },
   "outputs": [
    {
     "name": "stderr",
     "output_type": "stream",
     "text": [
      "/var/folders/h3/mg_n_0ls7kgb1369wvkmb_dh0000gq/T/ipykernel_88196/26243951.py:1: FutureWarning: `rcond` parameter will change to the default of machine precision times ``max(M, N)`` where M and N are the input matrix dimensions.\n",
      "To use the future default and silence this warning we advise to pass `rcond=None`, to keep using the old, explicitly pass `rcond=-1`.\n",
      "  x_opt, _, _, _ = np.linalg.lstsq(A, b)\n"
     ]
    }
   ],
   "source": [
    "x_opt, _, _, _ = np.linalg.lstsq(A, b)\n",
    "f_min = evaluate(x_opt)"
   ]
  },
  {
   "cell_type": "markdown",
   "id": "92fe8341-7c14-42c5-9f54-b99cb066e9a1",
   "metadata": {},
   "source": [
    "## Synchronous"
   ]
  },
  {
   "cell_type": "code",
   "outputs": [],
   "source": [],
   "metadata": {
    "collapsed": false
   },
   "id": "1cd12e4bf6afcecf"
  },
  {
   "cell_type": "code",
   "execution_count": 9,
   "id": "a1f0f564-b8cd-4047-b2fd-0deab8e1e2a4",
   "metadata": {
    "ExecuteTime": {
     "end_time": "2024-03-25T18:44:20.524055Z",
     "start_time": "2024-03-25T18:44:14.254765Z"
    }
   },
   "outputs": [
    {
     "name": "stderr",
     "output_type": "stream",
     "text": [
      "2024-03-25 13:44:16,169\tINFO worker.py:1724 -- Started a local Ray instance.\n"
     ]
    },
    {
     "name": "stdout",
     "output_type": "stream",
     "text": [
      "\u001B[33m(raylet)\u001B[0m Warning: The actor DataWorker is very large (30 MiB). Check that its definition is not implicitly capturing a large array or other object in scope. Tip: use ray.put() to put large objects in the Ray object store.\n",
      "256\n"
     ]
    }
   ],
   "source": [
    "lr_mini = 0.19 # best tuned\n",
    "lr_decay = 0\n",
    "its_, ts_, losses_, _ = run(seeds, num_workers, lr=lr_mini, lr_decay=lr_decay, iterations=iterations, \n",
    "                            asynchronous=False, delay_adaptive=False, it_check=it_check, batch_size=batch_size, one_bad_worker=False)"
   ]
  },
  {
   "cell_type": "code",
   "execution_count": 10,
   "id": "dcf0de48-a5c1-4d87-8a5c-b3f536bda8ed",
   "metadata": {
    "ExecuteTime": {
     "end_time": "2024-03-25T18:44:25.243649Z",
     "start_time": "2024-03-25T18:44:20.530360Z"
    }
   },
   "outputs": [
    {
     "name": "stderr",
     "output_type": "stream",
     "text": [
      "2024-03-25 13:44:22,036\tINFO worker.py:1724 -- Started a local Ray instance.\n"
     ]
    },
    {
     "name": "stdout",
     "output_type": "stream",
     "text": [
      "\u001B[33m(raylet)\u001B[0m Warning: The actor DataWorker is very large (30 MiB). Check that its definition is not implicitly capturing a large array or other object in scope. Tip: use ray.put() to put large objects in the Ray object store.\n",
      "256\n"
     ]
    },
    {
     "ename": "KeyboardInterrupt",
     "evalue": "",
     "output_type": "error",
     "traceback": [
      "\u001B[0;31m---------------------------------------------------------------------------\u001B[0m",
      "\u001B[0;31mKeyboardInterrupt\u001B[0m                         Traceback (most recent call last)",
      "Cell \u001B[0;32mIn[10], line 3\u001B[0m\n\u001B[1;32m      1\u001B[0m lr_as \u001B[38;5;241m=\u001B[39m \u001B[38;5;241m0.43\u001B[39m \u001B[38;5;66;03m# best tuned\u001B[39;00m\n\u001B[1;32m      2\u001B[0m lr_decay \u001B[38;5;241m=\u001B[39m \u001B[38;5;241m0\u001B[39m\n\u001B[0;32m----> 3\u001B[0m its_as, ts_as, losses_as, _ \u001B[38;5;241m=\u001B[39m \u001B[43mrun\u001B[49m\u001B[43m(\u001B[49m\u001B[43mseeds\u001B[49m\u001B[43m,\u001B[49m\u001B[43m \u001B[49m\u001B[43mnum_workers\u001B[49m\u001B[43m,\u001B[49m\u001B[43m \u001B[49m\u001B[43mlr\u001B[49m\u001B[38;5;241;43m=\u001B[39;49m\u001B[43mlr_as\u001B[49m\u001B[43m,\u001B[49m\u001B[43m \u001B[49m\u001B[43mlr_decay\u001B[49m\u001B[38;5;241;43m=\u001B[39;49m\u001B[43mlr_decay\u001B[49m\u001B[43m,\u001B[49m\u001B[43m \u001B[49m\n\u001B[1;32m      4\u001B[0m \u001B[43m                                  \u001B[49m\u001B[43miterations\u001B[49m\u001B[38;5;241;43m=\u001B[39;49m\u001B[43miterations\u001B[49m\u001B[43m,\u001B[49m\u001B[43m \u001B[49m\u001B[43masynchronous\u001B[49m\u001B[38;5;241;43m=\u001B[39;49m\u001B[38;5;28;43;01mTrue\u001B[39;49;00m\u001B[43m,\u001B[49m\u001B[43m \u001B[49m\u001B[43mdelay_adaptive\u001B[49m\u001B[38;5;241;43m=\u001B[39;49m\u001B[38;5;28;43;01mFalse\u001B[39;49;00m\u001B[43m,\u001B[49m\u001B[43m \u001B[49m\n\u001B[1;32m      5\u001B[0m \u001B[43m                                  \u001B[49m\u001B[43mit_check\u001B[49m\u001B[38;5;241;43m=\u001B[39;49m\u001B[43mit_check\u001B[49m\u001B[43m,\u001B[49m\u001B[43m \u001B[49m\u001B[43mbatch_size\u001B[49m\u001B[38;5;241;43m=\u001B[39;49m\u001B[43mbatch_size\u001B[49m\u001B[43m,\u001B[49m\u001B[43m \u001B[49m\u001B[43mone_bad_worker\u001B[49m\u001B[38;5;241;43m=\u001B[39;49m\u001B[38;5;28;43;01mFalse\u001B[39;49;00m\u001B[43m)\u001B[49m\n",
      "Cell \u001B[0;32mIn[5], line 64\u001B[0m, in \u001B[0;36mrun\u001B[0;34m(seeds, num_workers, lr, lr_decay, iterations, asynchronous, delay_adaptive, it_check, batch_size, one_bad_worker)\u001B[0m\n\u001B[1;32m     61\u001B[0m     ts\u001B[38;5;241m.\u001B[39mappend(time\u001B[38;5;241m.\u001B[39mperf_counter() \u001B[38;5;241m-\u001B[39m t0)\n\u001B[1;32m     63\u001B[0m lr_new \u001B[38;5;241m=\u001B[39m lr \u001B[38;5;241m/\u001B[39m (\u001B[38;5;241m1\u001B[39m \u001B[38;5;241m+\u001B[39m lr_decay \u001B[38;5;241m*\u001B[39m n_grads)\n\u001B[0;32m---> 64\u001B[0m \u001B[43mps\u001B[49m\u001B[38;5;241;43m.\u001B[39;49m\u001B[43mupdate_lr\u001B[49m\u001B[38;5;241;43m.\u001B[39;49m\u001B[43mremote\u001B[49m\u001B[43m(\u001B[49m\u001B[43mlr_new\u001B[49m\u001B[38;5;241;43m=\u001B[39;49m\u001B[43mlr_new\u001B[49m\u001B[43m)\u001B[49m\n\u001B[1;32m     65\u001B[0m t \u001B[38;5;241m=\u001B[39m time\u001B[38;5;241m.\u001B[39mperf_counter()\n\u001B[1;32m     66\u001B[0m \u001B[38;5;28;01mif\u001B[39;00m asynchronous:\n",
      "File \u001B[0;32m~/anaconda3/envs/asgd/lib/python3.8/site-packages/ray/actor.py:191\u001B[0m, in \u001B[0;36mActorMethod.remote\u001B[0;34m(self, *args, **kwargs)\u001B[0m\n\u001B[1;32m    190\u001B[0m \u001B[38;5;28;01mdef\u001B[39;00m \u001B[38;5;21mremote\u001B[39m(\u001B[38;5;28mself\u001B[39m, \u001B[38;5;241m*\u001B[39margs, \u001B[38;5;241m*\u001B[39m\u001B[38;5;241m*\u001B[39mkwargs):\n\u001B[0;32m--> 191\u001B[0m     \u001B[38;5;28;01mreturn\u001B[39;00m \u001B[38;5;28;43mself\u001B[39;49m\u001B[38;5;241;43m.\u001B[39;49m\u001B[43m_remote\u001B[49m\u001B[43m(\u001B[49m\u001B[43margs\u001B[49m\u001B[43m,\u001B[49m\u001B[43m \u001B[49m\u001B[43mkwargs\u001B[49m\u001B[43m)\u001B[49m\n",
      "File \u001B[0;32m~/anaconda3/envs/asgd/lib/python3.8/site-packages/ray/_private/auto_init_hook.py:22\u001B[0m, in \u001B[0;36mwrap_auto_init.<locals>.auto_init_wrapper\u001B[0;34m(*args, **kwargs)\u001B[0m\n\u001B[1;32m     19\u001B[0m \u001B[38;5;129m@wraps\u001B[39m(fn)\n\u001B[1;32m     20\u001B[0m \u001B[38;5;28;01mdef\u001B[39;00m \u001B[38;5;21mauto_init_wrapper\u001B[39m(\u001B[38;5;241m*\u001B[39margs, \u001B[38;5;241m*\u001B[39m\u001B[38;5;241m*\u001B[39mkwargs):\n\u001B[1;32m     21\u001B[0m     auto_init_ray()\n\u001B[0;32m---> 22\u001B[0m     \u001B[38;5;28;01mreturn\u001B[39;00m \u001B[43mfn\u001B[49m\u001B[43m(\u001B[49m\u001B[38;5;241;43m*\u001B[39;49m\u001B[43margs\u001B[49m\u001B[43m,\u001B[49m\u001B[43m \u001B[49m\u001B[38;5;241;43m*\u001B[39;49m\u001B[38;5;241;43m*\u001B[39;49m\u001B[43mkwargs\u001B[49m\u001B[43m)\u001B[49m\n",
      "File \u001B[0;32m~/anaconda3/envs/asgd/lib/python3.8/site-packages/ray/util/tracing/tracing_helper.py:426\u001B[0m, in \u001B[0;36m_tracing_actor_method_invocation.<locals>._start_span\u001B[0;34m(self, args, kwargs, *_args, **_kwargs)\u001B[0m\n\u001B[1;32m    424\u001B[0m     \u001B[38;5;28;01mif\u001B[39;00m kwargs \u001B[38;5;129;01mis\u001B[39;00m \u001B[38;5;129;01mnot\u001B[39;00m \u001B[38;5;28;01mNone\u001B[39;00m:\n\u001B[1;32m    425\u001B[0m         \u001B[38;5;28;01massert\u001B[39;00m \u001B[38;5;124m\"\u001B[39m\u001B[38;5;124m_ray_trace_ctx\u001B[39m\u001B[38;5;124m\"\u001B[39m \u001B[38;5;129;01mnot\u001B[39;00m \u001B[38;5;129;01min\u001B[39;00m kwargs\n\u001B[0;32m--> 426\u001B[0m     \u001B[38;5;28;01mreturn\u001B[39;00m \u001B[43mmethod\u001B[49m\u001B[43m(\u001B[49m\u001B[38;5;28;43mself\u001B[39;49m\u001B[43m,\u001B[49m\u001B[43m \u001B[49m\u001B[43margs\u001B[49m\u001B[43m,\u001B[49m\u001B[43m \u001B[49m\u001B[43mkwargs\u001B[49m\u001B[43m,\u001B[49m\u001B[43m \u001B[49m\u001B[38;5;241;43m*\u001B[39;49m\u001B[43m_args\u001B[49m\u001B[43m,\u001B[49m\u001B[43m \u001B[49m\u001B[38;5;241;43m*\u001B[39;49m\u001B[38;5;241;43m*\u001B[39;49m\u001B[43m_kwargs\u001B[49m\u001B[43m)\u001B[49m\n\u001B[1;32m    428\u001B[0m class_name \u001B[38;5;241m=\u001B[39m (\n\u001B[1;32m    429\u001B[0m     \u001B[38;5;28mself\u001B[39m\u001B[38;5;241m.\u001B[39m_actor_ref()\u001B[38;5;241m.\u001B[39m_ray_actor_creation_function_descriptor\u001B[38;5;241m.\u001B[39mclass_name\n\u001B[1;32m    430\u001B[0m )\n\u001B[1;32m    431\u001B[0m method_name \u001B[38;5;241m=\u001B[39m \u001B[38;5;28mself\u001B[39m\u001B[38;5;241m.\u001B[39m_method_name\n",
      "File \u001B[0;32m~/anaconda3/envs/asgd/lib/python3.8/site-packages/ray/actor.py:262\u001B[0m, in \u001B[0;36mActorMethod._remote\u001B[0;34m(self, args, kwargs, name, num_returns, _max_retries, retry_exceptions, concurrency_group, _generator_backpressure_num_objects)\u001B[0m\n\u001B[1;32m    259\u001B[0m \u001B[38;5;28;01mif\u001B[39;00m \u001B[38;5;28mself\u001B[39m\u001B[38;5;241m.\u001B[39m_decorator \u001B[38;5;129;01mis\u001B[39;00m \u001B[38;5;129;01mnot\u001B[39;00m \u001B[38;5;28;01mNone\u001B[39;00m:\n\u001B[1;32m    260\u001B[0m     invocation \u001B[38;5;241m=\u001B[39m \u001B[38;5;28mself\u001B[39m\u001B[38;5;241m.\u001B[39m_decorator(invocation)\n\u001B[0;32m--> 262\u001B[0m \u001B[38;5;28;01mreturn\u001B[39;00m \u001B[43minvocation\u001B[49m\u001B[43m(\u001B[49m\u001B[43margs\u001B[49m\u001B[43m,\u001B[49m\u001B[43m \u001B[49m\u001B[43mkwargs\u001B[49m\u001B[43m)\u001B[49m\n",
      "File \u001B[0;32m~/anaconda3/envs/asgd/lib/python3.8/site-packages/ray/actor.py:244\u001B[0m, in \u001B[0;36mActorMethod._remote.<locals>.invocation\u001B[0;34m(args, kwargs)\u001B[0m\n\u001B[1;32m    242\u001B[0m \u001B[38;5;28;01mif\u001B[39;00m actor \u001B[38;5;129;01mis\u001B[39;00m \u001B[38;5;28;01mNone\u001B[39;00m:\n\u001B[1;32m    243\u001B[0m     \u001B[38;5;28;01mraise\u001B[39;00m \u001B[38;5;167;01mRuntimeError\u001B[39;00m(\u001B[38;5;124m\"\u001B[39m\u001B[38;5;124mLost reference to actor\u001B[39m\u001B[38;5;124m\"\u001B[39m)\n\u001B[0;32m--> 244\u001B[0m \u001B[38;5;28;01mreturn\u001B[39;00m \u001B[43mactor\u001B[49m\u001B[38;5;241;43m.\u001B[39;49m\u001B[43m_actor_method_call\u001B[49m\u001B[43m(\u001B[49m\n\u001B[1;32m    245\u001B[0m \u001B[43m    \u001B[49m\u001B[38;5;28;43mself\u001B[39;49m\u001B[38;5;241;43m.\u001B[39;49m\u001B[43m_method_name\u001B[49m\u001B[43m,\u001B[49m\n\u001B[1;32m    246\u001B[0m \u001B[43m    \u001B[49m\u001B[43margs\u001B[49m\u001B[38;5;241;43m=\u001B[39;49m\u001B[43margs\u001B[49m\u001B[43m,\u001B[49m\n\u001B[1;32m    247\u001B[0m \u001B[43m    \u001B[49m\u001B[43mkwargs\u001B[49m\u001B[38;5;241;43m=\u001B[39;49m\u001B[43mkwargs\u001B[49m\u001B[43m,\u001B[49m\n\u001B[1;32m    248\u001B[0m \u001B[43m    \u001B[49m\u001B[43mname\u001B[49m\u001B[38;5;241;43m=\u001B[39;49m\u001B[43mname\u001B[49m\u001B[43m,\u001B[49m\n\u001B[1;32m    249\u001B[0m \u001B[43m    \u001B[49m\u001B[43mnum_returns\u001B[49m\u001B[38;5;241;43m=\u001B[39;49m\u001B[43mnum_returns\u001B[49m\u001B[43m,\u001B[49m\n\u001B[1;32m    250\u001B[0m \u001B[43m    \u001B[49m\u001B[43mmax_retries\u001B[49m\u001B[38;5;241;43m=\u001B[39;49m\u001B[43mmax_retries\u001B[49m\u001B[43m,\u001B[49m\n\u001B[1;32m    251\u001B[0m \u001B[43m    \u001B[49m\u001B[43mretry_exceptions\u001B[49m\u001B[38;5;241;43m=\u001B[39;49m\u001B[43mretry_exceptions\u001B[49m\u001B[43m,\u001B[49m\n\u001B[1;32m    252\u001B[0m \u001B[43m    \u001B[49m\u001B[43mconcurrency_group_name\u001B[49m\u001B[38;5;241;43m=\u001B[39;49m\u001B[43mconcurrency_group\u001B[49m\u001B[43m,\u001B[49m\n\u001B[1;32m    253\u001B[0m \u001B[43m    \u001B[49m\u001B[43mgenerator_backpressure_num_objects\u001B[49m\u001B[38;5;241;43m=\u001B[39;49m\u001B[43m(\u001B[49m\n\u001B[1;32m    254\u001B[0m \u001B[43m        \u001B[49m\u001B[43m_generator_backpressure_num_objects\u001B[49m\n\u001B[1;32m    255\u001B[0m \u001B[43m    \u001B[49m\u001B[43m)\u001B[49m\u001B[43m,\u001B[49m\n\u001B[1;32m    256\u001B[0m \u001B[43m\u001B[49m\u001B[43m)\u001B[49m\n",
      "File \u001B[0;32m~/anaconda3/envs/asgd/lib/python3.8/site-packages/ray/actor.py:1338\u001B[0m, in \u001B[0;36mActorHandle._actor_method_call\u001B[0;34m(self, method_name, args, kwargs, name, num_returns, max_retries, retry_exceptions, concurrency_group_name, generator_backpressure_num_objects)\u001B[0m\n\u001B[1;32m   1335\u001B[0m \u001B[38;5;28;01mif\u001B[39;00m generator_backpressure_num_objects \u001B[38;5;129;01mis\u001B[39;00m \u001B[38;5;28;01mNone\u001B[39;00m:\n\u001B[1;32m   1336\u001B[0m     generator_backpressure_num_objects \u001B[38;5;241m=\u001B[39m \u001B[38;5;241m-\u001B[39m\u001B[38;5;241m1\u001B[39m\n\u001B[0;32m-> 1338\u001B[0m object_refs \u001B[38;5;241m=\u001B[39m \u001B[43mworker\u001B[49m\u001B[38;5;241;43m.\u001B[39;49m\u001B[43mcore_worker\u001B[49m\u001B[38;5;241;43m.\u001B[39;49m\u001B[43msubmit_actor_task\u001B[49m\u001B[43m(\u001B[49m\n\u001B[1;32m   1339\u001B[0m \u001B[43m    \u001B[49m\u001B[38;5;28;43mself\u001B[39;49m\u001B[38;5;241;43m.\u001B[39;49m\u001B[43m_ray_actor_language\u001B[49m\u001B[43m,\u001B[49m\n\u001B[1;32m   1340\u001B[0m \u001B[43m    \u001B[49m\u001B[38;5;28;43mself\u001B[39;49m\u001B[38;5;241;43m.\u001B[39;49m\u001B[43m_ray_actor_id\u001B[49m\u001B[43m,\u001B[49m\n\u001B[1;32m   1341\u001B[0m \u001B[43m    \u001B[49m\u001B[43mfunction_descriptor\u001B[49m\u001B[43m,\u001B[49m\n\u001B[1;32m   1342\u001B[0m \u001B[43m    \u001B[49m\u001B[43mlist_args\u001B[49m\u001B[43m,\u001B[49m\n\u001B[1;32m   1343\u001B[0m \u001B[43m    \u001B[49m\u001B[43mname\u001B[49m\u001B[43m,\u001B[49m\n\u001B[1;32m   1344\u001B[0m \u001B[43m    \u001B[49m\u001B[43mnum_returns\u001B[49m\u001B[43m,\u001B[49m\n\u001B[1;32m   1345\u001B[0m \u001B[43m    \u001B[49m\u001B[43mmax_retries\u001B[49m\u001B[43m,\u001B[49m\n\u001B[1;32m   1346\u001B[0m \u001B[43m    \u001B[49m\u001B[43mretry_exceptions\u001B[49m\u001B[43m,\u001B[49m\n\u001B[1;32m   1347\u001B[0m \u001B[43m    \u001B[49m\u001B[43mretry_exception_allowlist\u001B[49m\u001B[43m,\u001B[49m\n\u001B[1;32m   1348\u001B[0m \u001B[43m    \u001B[49m\u001B[38;5;28;43mself\u001B[39;49m\u001B[38;5;241;43m.\u001B[39;49m\u001B[43m_ray_actor_method_cpus\u001B[49m\u001B[43m,\u001B[49m\n\u001B[1;32m   1349\u001B[0m \u001B[43m    \u001B[49m\u001B[43mconcurrency_group_name\u001B[49m\u001B[43m \u001B[49m\u001B[38;5;28;43;01mif\u001B[39;49;00m\u001B[43m \u001B[49m\u001B[43mconcurrency_group_name\u001B[49m\u001B[43m \u001B[49m\u001B[38;5;129;43;01mis\u001B[39;49;00m\u001B[43m \u001B[49m\u001B[38;5;129;43;01mnot\u001B[39;49;00m\u001B[43m \u001B[49m\u001B[38;5;28;43;01mNone\u001B[39;49;00m\u001B[43m \u001B[49m\u001B[38;5;28;43;01melse\u001B[39;49;00m\u001B[43m \u001B[49m\u001B[38;5;124;43mb\u001B[39;49m\u001B[38;5;124;43m\"\u001B[39;49m\u001B[38;5;124;43m\"\u001B[39;49m\u001B[43m,\u001B[49m\n\u001B[1;32m   1350\u001B[0m \u001B[43m    \u001B[49m\u001B[43mgenerator_backpressure_num_objects\u001B[49m\u001B[43m,\u001B[49m\n\u001B[1;32m   1351\u001B[0m \u001B[43m\u001B[49m\u001B[43m)\u001B[49m\n\u001B[1;32m   1353\u001B[0m \u001B[38;5;28;01mif\u001B[39;00m num_returns \u001B[38;5;241m==\u001B[39m STREAMING_GENERATOR_RETURN:\n\u001B[1;32m   1354\u001B[0m     \u001B[38;5;66;03m# Streaming generator will return a single ref\u001B[39;00m\n\u001B[1;32m   1355\u001B[0m     \u001B[38;5;66;03m# that is for the generator task.\u001B[39;00m\n\u001B[1;32m   1356\u001B[0m     \u001B[38;5;28;01massert\u001B[39;00m \u001B[38;5;28mlen\u001B[39m(object_refs) \u001B[38;5;241m==\u001B[39m \u001B[38;5;241m1\u001B[39m\n",
      "\u001B[0;31mKeyboardInterrupt\u001B[0m: "
     ]
    }
   ],
   "source": [
    "lr_as = 0.43 # best tuned\n",
    "lr_decay = 0\n",
    "its_as, ts_as, losses_as, _ = run(seeds, num_workers, lr=lr_as, lr_decay=lr_decay, \n",
    "                                  iterations=iterations, asynchronous=True, delay_adaptive=False, \n",
    "                                  it_check=it_check, batch_size=batch_size, one_bad_worker=False)"
   ]
  },
  {
   "cell_type": "code",
   "execution_count": null,
   "id": "f8a98c99-8420-456c-a910-92dd8cc64d0c",
   "metadata": {
    "ExecuteTime": {
     "start_time": "2024-03-25T18:44:25.244534Z"
    }
   },
   "outputs": [],
   "source": [
    "lr_ad = 0.43 # best tuned\n",
    "lr_decay = 0\n",
    "its_ad, ts_ad, losses_ad, delays = run(seeds, num_workers, lr=lr_ad, lr_decay=lr_decay, \n",
    "                                       iterations=iterations, asynchronous=True, delay_adaptive=True, \n",
    "                                       it_check=it_check, batch_size=batch_size, one_bad_worker=False)"
   ]
  },
  {
   "cell_type": "code",
   "outputs": [],
   "source": [
    "len(losses_)"
   ],
   "metadata": {
    "collapsed": false,
    "ExecuteTime": {
     "end_time": "2024-03-25T18:44:25.246728Z",
     "start_time": "2024-03-25T18:44:25.246079Z"
    }
   },
   "id": "13c21ca243d1fa33",
   "execution_count": null
  },
  {
   "cell_type": "code",
   "outputs": [],
   "source": [
    "len(losses_ad)"
   ],
   "metadata": {
    "collapsed": false,
    "ExecuteTime": {
     "start_time": "2024-03-25T18:44:25.247577Z"
    }
   },
   "id": "680b548cb86064a6",
   "execution_count": null
  },
  {
   "cell_type": "code",
   "execution_count": null,
   "id": "285e3352-476f-460e-bf33-9fd1c3c216e3",
   "metadata": {
    "ExecuteTime": {
     "start_time": "2024-03-25T18:44:25.248659Z"
    }
   },
   "outputs": [],
   "source": [
    "plt.plot(its_ * num_workers, losses_ - f_min, label='Minibatch SGD')\n",
    "plt.plot(its_as, losses_as - f_min, label='Asynchronous SGD')\n",
    "plt.plot(its_ad, losses_ad - f_min, label='Delay-Adaptive AsySGD')\n",
    "plt.yscale('log')\n",
    "plt.legend()\n",
    "plt.xlabel('Number of gradients')\n",
    "plt.ylabel(r'$F(\\mathbf{x}) - F^*$')\n",
    "# plt.savefig(f'quadratic_grads_M_{num_workers}_n={n_data}_dim={dim}_bs_{batch_size}.pdf', bbox_inches='tight')"
   ]
  },
  {
   "cell_type": "code",
   "execution_count": null,
   "id": "5efc2ab7-aa81-4760-9e76-e8577836beea",
   "metadata": {
    "ExecuteTime": {
     "start_time": "2024-03-25T18:44:25.249483Z"
    }
   },
   "outputs": [],
   "source": [
    "plt.hist(delays, bins=100)\n",
    "plt.axvline(num_workers, color='green', label=r'$M$', linewidth=6)\n",
    "plt.axvline(np.max(delays), color='red', label=r'$\\tau_{\\max}$')\n",
    "plt.xlabel('Delay')\n",
    "plt.ylabel('Frequency')\n",
    "plt.yscale('log')\n",
    "plt.legend()\n",
    "plt.savefig(f'quadratic_delays_M_{num_workers}_n={n_data}_dim={dim}_bs={batch_size}.pdf', bbox_inches='tight')"
   ]
  },
  {
   "cell_type": "code",
   "execution_count": null,
   "id": "7de9cc5c-7ded-47ca-8c36-f064a78a49cc",
   "metadata": {
    "ExecuteTime": {
     "start_time": "2024-03-25T18:44:25.250297Z"
    }
   },
   "outputs": [],
   "source": []
  },
  {
   "cell_type": "code",
   "execution_count": null,
   "id": "9eb7aa4a-140f-4e20-b139-82e82599172d",
   "metadata": {},
   "outputs": [],
   "source": []
  },
  {
   "cell_type": "code",
   "execution_count": null,
   "id": "1a1eb446-5cd2-4830-b959-87063843d1f8",
   "metadata": {},
   "outputs": [],
   "source": []
  },
  {
   "cell_type": "code",
   "execution_count": null,
   "id": "c52048f9",
   "metadata": {},
   "outputs": [],
   "source": []
  }
 ],
 "metadata": {
  "kernelspec": {
   "display_name": "Python 3 (ipykernel)",
   "language": "python",
   "name": "python3"
  },
  "language_info": {
   "codemirror_mode": {
    "name": "ipython",
    "version": 3
   },
   "file_extension": ".py",
   "mimetype": "text/x-python",
   "name": "python",
   "nbconvert_exporter": "python",
   "pygments_lexer": "ipython3",
   "version": "3.9.12"
  }
 },
 "nbformat": 4,
 "nbformat_minor": 5
}
