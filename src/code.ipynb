{
 "cells": [
  {
   "cell_type": "code",
   "execution_count": 28,
   "id": "df16147f",
   "metadata": {
    "ExecuteTime": {
     "end_time": "2024-02-25T06:26:15.546805Z",
     "start_time": "2024-02-25T06:26:15.538240Z"
    }
   },
   "outputs": [],
   "source": [
    "import matplotlib\n",
    "import numpy as np\n",
    "import psutil\n",
    "import ray\n",
    "import os\n",
    "import seaborn as sns\n",
    "import time\n",
    "\n",
    "import matplotlib.pyplot as plt\n",
    "import numpy.linalg as la\n",
    "\n",
    "sns.set(style=\"whitegrid\", context=\"talk\", font_scale=1.2, palette=sns.color_palette(\"bright\"), color_codes=False)\n",
    "matplotlib.rcParams['pdf.fonttype'] = 42\n",
    "matplotlib.rcParams['ps.fonttype'] = 42\n",
    "matplotlib.rcParams['font.family'] = 'sans-serif'\n",
    "matplotlib.rcParams['font.sans-serif'] = 'DejaVu Sans'\n",
    "matplotlib.rcParams['mathtext.fontset'] = 'cm'\n",
    "matplotlib.rcParams['figure.figsize'] = (9, 6)"
   ]
  },
  {
   "cell_type": "code",
   "execution_count": 29,
   "id": "c851e7ba",
   "metadata": {
    "ExecuteTime": {
     "end_time": "2024-02-25T06:26:15.976320Z",
     "start_time": "2024-02-25T06:26:15.972289Z"
    }
   },
   "outputs": [],
   "source": [
    "@ray.remote\n",
    "class ParameterServer(object):\n",
    "    def __init__(self, lr, asynchronous):\n",
    "        self.x = np.zeros(dim)\n",
    "        self.lr = lr\n",
    "        self.asynchronous = asynchronous\n",
    "\n",
    "    def apply_gradients(self, grad, *gradients):\n",
    "        if self.asynchronous:\n",
    "            self.x -= self.lr * grad\n",
    "        else:\n",
    "            summed_gradients = np.sum(gradients, axis=0)\n",
    "            self.x -= self.lr * summed_gradients\n",
    "        return self.x\n",
    "\n",
    "    def get_x(self):\n",
    "        return self.x\n",
    "    \n",
    "    def update_lr(self, lr_coef_mul=1, lr_new=None):\n",
    "        if lr_new is not None:\n",
    "            self.lr = lr_new\n",
    "        else:\n",
    "            self.lr *= lr_coef_mul\n",
    "        \n",
    "    def get_hyperparams(self):\n",
    "        return self.lr, self.asynchronous"
   ]
  },
  {
   "cell_type": "code",
   "execution_count": 30,
   "id": "9a14abf4",
   "metadata": {
    "ExecuteTime": {
     "end_time": "2024-02-25T06:26:16.226941Z",
     "start_time": "2024-02-25T06:26:16.218672Z"
    }
   },
   "outputs": [],
   "source": [
    "def grad_func(x):\n",
    "    return (A@x - b) @ A / n_data\n",
    "\n",
    "def sgrad_func(rng, x):\n",
    "    i = rng.integers(n_data)\n",
    "    return (A[i]@x - b[i]) * A[i]\n",
    "\n",
    "def batch_grad_func(rng, x, batch_size):\n",
    "    idx = rng.choice(n_data, size=batch_size, replace=False)\n",
    "    return (A[idx]@x - b[idx]) @ A[idx] / batch_size\n",
    "\n",
    "@ray.remote\n",
    "class DataWorker(object):\n",
    "    \"\"\"\n",
    "    The class for an individual Ray worker.\n",
    "    Arguments:\n",
    "        lr (float): the stepsize to be used at initialization\n",
    "        label (int, optional): batch size for sampling gradients (default: 1)\n",
    "        seed (int, optional): random seed to generate random variables for reproducibility (default: 0)\n",
    "        bad_worker (bool, optional): if True, the worker will be forced to be slower than others (default: False)\n",
    "    \"\"\"\n",
    "    def __init__(self, lr, batch_size=1, seed=0, bad_worker=False):\n",
    "        self.lr = lr\n",
    "        self.batch_size = batch_size\n",
    "        self.bad_worker = bad_worker\n",
    "        self.rng = np.random.default_rng(seed)\n",
    "\n",
    "    def compute_gradients(self, x):\n",
    "        t0 = time.perf_counter()\n",
    "        if self.batch_size is None:\n",
    "            grad = grad_func(x)\n",
    "        elif self.batch_size == 1:\n",
    "            grad = sgrad_func(self.rng, x)\n",
    "        else:\n",
    "            grad = batch_grad_func(self.rng, x, self.batch_size)\n",
    "        if self.bad_worker:\n",
    "            dt = time.perf_counter() - t0\n",
    "            time.sleep(100 * dt)\n",
    "        return grad\n",
    "    \n",
    "    def update_lr(self, lr_coef_mul=1, lr_new=None):\n",
    "        if lr_new is not None:\n",
    "            self.lr = lr_new\n",
    "        else:\n",
    "            self.lr *= lr_coef_mul\n",
    "        \n",
    "    def get_hyperparams(self):\n",
    "        return self.lr, self.batch_size\n",
    "    \n",
    "    def get_lr(self):\n",
    "        return self.lr"
   ]
  },
  {
   "cell_type": "code",
   "execution_count": 31,
   "id": "60171013-a941-4856-9737-49ac3753dca3",
   "metadata": {
    "ExecuteTime": {
     "end_time": "2024-02-25T06:26:16.707763Z",
     "start_time": "2024-02-25T06:26:16.701456Z"
    }
   },
   "outputs": [],
   "source": [
    "def evaluate(x):\n",
    "    assert len(x) == dim\n",
    "    return 0.5 * np.mean((A @ x - b)**2)"
   ]
  },
  {
   "cell_type": "code",
   "execution_count": 38,
   "id": "1adc7795-d378-4074-9fc7-b4790f94fb57",
   "metadata": {
    "tags": [],
    "ExecuteTime": {
     "end_time": "2024-02-25T06:39:30.253443Z",
     "start_time": "2024-02-25T06:39:30.250252Z"
    }
   },
   "outputs": [],
   "source": [
    "def run(seeds, num_workers, lr, lr_decay=0, iterations=200, asynchronous=True, delay_adaptive=False, it_check=20,\n",
    "        batch_size=1, one_bad_worker=False):\n",
    "    delays_all = []\n",
    "    worker_updates = [0 for i in range(num_workers)]\n",
    "    rng = np.random.default_rng(42)\n",
    "    seeds_workers = [rng.choice(max_seed, size=1, replace=False)[0] for _ in range(num_workers)]\n",
    "    ray.init(ignore_reinit_error=True)\n",
    "    ps = ParameterServer.remote(lr, asynchronous)\n",
    "    workers = [DataWorker.remote(lr=lr, batch_size=batch_size, seed=seeds_workers[i]) for i in range(num_workers)]\n",
    "    print(batch_size)\n",
    "\n",
    "    x = ps.get_x.remote()\n",
    "    if asynchronous:\n",
    "        gradients = {}\n",
    "        worker_last_it = [0 for _ in range(num_workers)]\n",
    "        worker_id_to_num = {}\n",
    "        for e, worker in enumerate(workers):\n",
    "            gradients[worker.compute_gradients.remote(x)] = worker\n",
    "            worker_id_to_num[worker] = e\n",
    "\n",
    "\n",
    "    losses = []\n",
    "    its = []\n",
    "    ts = []\n",
    "    delays = []\n",
    "    t0 = time.perf_counter()\n",
    "    delay = 0\n",
    "    trace = []\n",
    "    grads_per_it = 1 if asynchronous else num_workers\n",
    "\n",
    "    for it in range(iterations * (num_workers if asynchronous else 1)):\n",
    "        n_grads = it * grads_per_it\n",
    "        if asynchronous:\n",
    "            ready_gradient_list, _ = ray.wait(list(gradients))\n",
    "            ready_gradient_id = ready_gradient_list[-1]\n",
    "            worker = gradients.pop(ready_gradient_id)\n",
    "\n",
    "            # Compute and apply gradients.\n",
    "            gradients[worker.compute_gradients.remote(x)] = worker\n",
    "            worker_num = worker_id_to_num[worker]\n",
    "            delay = it - worker_last_it[worker_num]\n",
    "            if delay_adaptive:\n",
    "                lr_new = lr * num_workers / max(num_workers, delay)\n",
    "                ps.update_lr.remote(lr_new=lr_new)\n",
    "            x = ps.apply_gradients.remote(grad=ready_gradient_id)\n",
    "            worker_last_it[worker_num] = it\n",
    "            worker_updates[worker_num] += 1\n",
    "        else:\n",
    "            gradients = [\n",
    "                worker.compute_gradients.remote(x) for worker in workers\n",
    "            ]\n",
    "            # Calculate update after all gradients are available.\n",
    "            x = ps.apply_gradients.remote(None, *gradients)\n",
    "\n",
    "        if it % it_check == 0 or (not asynchronous and it % (max(it_check // num_workers, 1)) == 0):\n",
    "            # print(\"Save at iter: \", it)\n",
    "            # Evaluate the current model.\n",
    "            x = ray.get(ps.get_x.remote())\n",
    "            trace.append(x.copy())\n",
    "            its.append(it)\n",
    "            ts.append(time.perf_counter() - t0)\n",
    "\n",
    "        lr_new = lr / (1 + lr_decay * n_grads)\n",
    "        ps.update_lr.remote(lr_new=lr_new)\n",
    "        t = time.perf_counter()\n",
    "        if asynchronous:\n",
    "            delays.append(delay)\n",
    "\n",
    "    ray.shutdown()\n",
    "    return np.asarray(its), np.asarray(ts), np.asarray([evaluate(x) for x in trace]), np.asarray(delays)"
   ]
  },
  {
   "cell_type": "markdown",
   "id": "c3803ada-57b8-4727-a2a9-5c2ca2c90438",
   "metadata": {},
   "source": [
    "## Parameters"
   ]
  },
  {
   "cell_type": "code",
   "execution_count": 39,
   "id": "1da40485-b55f-4cba-b8f9-07b3e9e99770",
   "metadata": {
    "ExecuteTime": {
     "end_time": "2024-02-25T06:39:31.893981Z",
     "start_time": "2024-02-25T06:39:31.890375Z"
    }
   },
   "outputs": [
    {
     "data": {
      "text/plain": "10"
     },
     "execution_count": 39,
     "metadata": {},
     "output_type": "execute_result"
    }
   ],
   "source": [
    "psutil.cpu_count(logical=True)"
   ]
  },
  {
   "cell_type": "code",
   "execution_count": 40,
   "id": "4c15c4e1-7024-433a-9e12-f72f92d14776",
   "metadata": {
    "ExecuteTime": {
     "end_time": "2024-02-25T06:39:32.254807Z",
     "start_time": "2024-02-25T06:39:32.228978Z"
    }
   },
   "outputs": [],
   "source": [
    "iterations = 800\n",
    "num_workers = 8\n",
    "it_check = 40\n",
    "n_seeds = 5\n",
    "max_seed = 424242\n",
    "rng = np.random.default_rng(42)\n",
    "seeds = [rng.choice(max_seed, size=1, replace=False)[0] for _ in range(n_seeds)]\n",
    "seed_to_run = {}\n",
    "for r, seed in enumerate(seeds):\n",
    "    seed_to_run[seed] = r\n",
    "    \n",
    "n_data = 10000\n",
    "dim = 400\n",
    "batch_size = 256\n",
    "noise_scale = 1e-5\n",
    "A = rng.uniform(size=(n_data, dim)) / np.sqrt(dim)\n",
    "x_rand = rng.normal(size=dim)\n",
    "b = A @ x_rand + noise_scale * rng.normal(size=n_data)"
   ]
  },
  {
   "cell_type": "code",
   "execution_count": 41,
   "id": "edee3c07-2c31-4923-825a-f1315e2b082c",
   "metadata": {
    "ExecuteTime": {
     "end_time": "2024-02-25T06:39:39.038163Z",
     "start_time": "2024-02-25T06:39:33.059930Z"
    }
   },
   "outputs": [
    {
     "name": "stderr",
     "output_type": "stream",
     "text": [
      "/var/folders/h3/mg_n_0ls7kgb1369wvkmb_dh0000gq/T/ipykernel_85432/26243951.py:1: FutureWarning: `rcond` parameter will change to the default of machine precision times ``max(M, N)`` where M and N are the input matrix dimensions.\n",
      "To use the future default and silence this warning we advise to pass `rcond=None`, to keep using the old, explicitly pass `rcond=-1`.\n",
      "  x_opt, _, _, _ = np.linalg.lstsq(A, b)\n"
     ]
    }
   ],
   "source": [
    "x_opt, _, _, _ = np.linalg.lstsq(A, b)\n",
    "f_min = evaluate(x_opt)"
   ]
  },
  {
   "cell_type": "markdown",
   "id": "92fe8341-7c14-42c5-9f54-b99cb066e9a1",
   "metadata": {},
   "source": [
    "## Synchronous"
   ]
  },
  {
   "cell_type": "code",
   "execution_count": 42,
   "id": "a1f0f564-b8cd-4047-b2fd-0deab8e1e2a4",
   "metadata": {
    "ExecuteTime": {
     "end_time": "2024-02-25T06:40:36.466521Z",
     "start_time": "2024-02-25T06:40:23.782763Z"
    }
   },
   "outputs": [
    {
     "name": "stderr",
     "output_type": "stream",
     "text": [
      "2024-02-25 00:40:25,381\tINFO worker.py:1724 -- Started a local Ray instance.\n"
     ]
    },
    {
     "name": "stdout",
     "output_type": "stream",
     "text": [
      "\u001B[33m(raylet)\u001B[0m Warning: The actor DataWorker is very large (30 MiB). Check that its definition is not implicitly capturing a large array or other object in scope. Tip: use ray.put() to put large objects in the Ray object store.\n",
      "256\n",
      "Save at iter:  0\n",
      "Save at iter:  5\n",
      "Save at iter:  10\n",
      "Save at iter:  15\n",
      "Save at iter:  20\n",
      "Save at iter:  25\n",
      "Save at iter:  30\n",
      "Save at iter:  35\n",
      "Save at iter:  40\n",
      "Save at iter:  45\n",
      "Save at iter:  50\n",
      "Save at iter:  55\n",
      "Save at iter:  60\n",
      "Save at iter:  65\n",
      "Save at iter:  70\n",
      "Save at iter:  75\n",
      "Save at iter:  80\n",
      "Save at iter:  85\n",
      "Save at iter:  90\n",
      "Save at iter:  95\n",
      "Save at iter:  100\n",
      "Save at iter:  105\n",
      "Save at iter:  110\n",
      "Save at iter:  115\n",
      "Save at iter:  120\n",
      "Save at iter:  125\n",
      "Save at iter:  130\n",
      "Save at iter:  135\n",
      "Save at iter:  140\n",
      "Save at iter:  145\n",
      "Save at iter:  150\n",
      "Save at iter:  155\n",
      "Save at iter:  160\n",
      "Save at iter:  165\n",
      "Save at iter:  170\n",
      "Save at iter:  175\n",
      "Save at iter:  180\n",
      "Save at iter:  185\n",
      "Save at iter:  190\n",
      "Save at iter:  195\n",
      "Save at iter:  200\n",
      "Save at iter:  205\n",
      "Save at iter:  210\n",
      "Save at iter:  215\n",
      "Save at iter:  220\n",
      "Save at iter:  225\n",
      "Save at iter:  230\n",
      "Save at iter:  235\n",
      "Save at iter:  240\n",
      "Save at iter:  245\n",
      "Save at iter:  250\n",
      "Save at iter:  255\n",
      "Save at iter:  260\n",
      "Save at iter:  265\n",
      "Save at iter:  270\n",
      "Save at iter:  275\n",
      "Save at iter:  280\n",
      "Save at iter:  285\n",
      "Save at iter:  290\n",
      "Save at iter:  295\n",
      "Save at iter:  300\n",
      "Save at iter:  305\n",
      "Save at iter:  310\n",
      "Save at iter:  315\n",
      "Save at iter:  320\n",
      "Save at iter:  325\n",
      "Save at iter:  330\n",
      "Save at iter:  335\n",
      "Save at iter:  340\n",
      "Save at iter:  345\n",
      "Save at iter:  350\n",
      "Save at iter:  355\n",
      "Save at iter:  360\n",
      "Save at iter:  365\n",
      "Save at iter:  370\n",
      "Save at iter:  375\n",
      "Save at iter:  380\n",
      "Save at iter:  385\n",
      "Save at iter:  390\n",
      "Save at iter:  395\n",
      "Save at iter:  400\n",
      "Save at iter:  405\n",
      "Save at iter:  410\n",
      "Save at iter:  415\n",
      "Save at iter:  420\n",
      "Save at iter:  425\n",
      "Save at iter:  430\n",
      "Save at iter:  435\n",
      "Save at iter:  440\n",
      "Save at iter:  445\n",
      "Save at iter:  450\n",
      "Save at iter:  455\n",
      "Save at iter:  460\n",
      "Save at iter:  465\n",
      "Save at iter:  470\n",
      "Save at iter:  475\n",
      "Save at iter:  480\n",
      "Save at iter:  485\n",
      "Save at iter:  490\n",
      "Save at iter:  495\n",
      "Save at iter:  500\n",
      "Save at iter:  505\n",
      "Save at iter:  510\n",
      "Save at iter:  515\n",
      "Save at iter:  520\n",
      "Save at iter:  525\n",
      "Save at iter:  530\n",
      "Save at iter:  535\n",
      "Save at iter:  540\n",
      "Save at iter:  545\n",
      "Save at iter:  550\n",
      "Save at iter:  555\n",
      "Save at iter:  560\n",
      "Save at iter:  565\n",
      "Save at iter:  570\n",
      "Save at iter:  575\n",
      "Save at iter:  580\n",
      "Save at iter:  585\n",
      "Save at iter:  590\n",
      "Save at iter:  595\n",
      "Save at iter:  600\n",
      "Save at iter:  605\n",
      "Save at iter:  610\n",
      "Save at iter:  615\n",
      "Save at iter:  620\n",
      "Save at iter:  625\n",
      "Save at iter:  630\n",
      "Save at iter:  635\n",
      "Save at iter:  640\n",
      "Save at iter:  645\n",
      "Save at iter:  650\n",
      "Save at iter:  655\n",
      "Save at iter:  660\n",
      "Save at iter:  665\n",
      "Save at iter:  670\n",
      "Save at iter:  675\n",
      "Save at iter:  680\n",
      "Save at iter:  685\n",
      "Save at iter:  690\n",
      "Save at iter:  695\n",
      "Save at iter:  700\n",
      "Save at iter:  705\n",
      "Save at iter:  710\n",
      "Save at iter:  715\n",
      "Save at iter:  720\n",
      "Save at iter:  725\n",
      "Save at iter:  730\n",
      "Save at iter:  735\n",
      "Save at iter:  740\n",
      "Save at iter:  745\n",
      "Save at iter:  750\n",
      "Save at iter:  755\n",
      "Save at iter:  760\n",
      "Save at iter:  765\n",
      "Save at iter:  770\n",
      "Save at iter:  775\n",
      "Save at iter:  780\n",
      "Save at iter:  785\n",
      "Save at iter:  790\n",
      "Save at iter:  795\n"
     ]
    }
   ],
   "source": [
    "lr_mini = 0.19 # best tuned\n",
    "lr_decay = 0\n",
    "its_, ts_, losses_, _ = run(seeds, num_workers, lr=lr_mini, lr_decay=lr_decay, iterations=iterations, \n",
    "                            asynchronous=False, delay_adaptive=False, it_check=it_check, batch_size=batch_size, one_bad_worker=False)"
   ]
  },
  {
   "cell_type": "code",
   "execution_count": 11,
   "id": "dcf0de48-a5c1-4d87-8a5c-b3f536bda8ed",
   "metadata": {
    "ExecuteTime": {
     "end_time": "2024-02-19T19:44:49.625430Z",
     "start_time": "2024-02-19T19:44:42.111161Z"
    }
   },
   "outputs": [
    {
     "name": "stderr",
     "output_type": "stream",
     "text": [
      "2024-02-19 13:44:43,595\tINFO worker.py:1724 -- Started a local Ray instance.\n"
     ]
    },
    {
     "name": "stdout",
     "output_type": "stream",
     "text": [
      "\u001B[33m(raylet)\u001B[0m Warning: The actor DataWorker is very large (30 MiB). Check that its definition is not implicitly capturing a large array or other object in scope. Tip: use ray.put() to put large objects in the Ray object store.\n"
     ]
    }
   ],
   "source": [
    "lr_as = 0.43 # best tuned\n",
    "lr_decay = 0\n",
    "its_as, ts_as, losses_as, _ = run(seeds, num_workers, lr=lr_as, lr_decay=lr_decay, \n",
    "                                  iterations=iterations, asynchronous=True, delay_adaptive=False, \n",
    "                                  it_check=it_check, batch_size=batch_size, one_bad_worker=False)"
   ]
  },
  {
   "cell_type": "code",
   "execution_count": 12,
   "id": "f8a98c99-8420-456c-a910-92dd8cc64d0c",
   "metadata": {
    "ExecuteTime": {
     "end_time": "2024-02-19T19:44:57.961474Z",
     "start_time": "2024-02-19T19:44:49.635960Z"
    }
   },
   "outputs": [
    {
     "name": "stderr",
     "output_type": "stream",
     "text": [
      "2024-02-19 13:44:51,161\tINFO worker.py:1724 -- Started a local Ray instance.\n"
     ]
    },
    {
     "name": "stdout",
     "output_type": "stream",
     "text": [
      "\u001B[33m(raylet)\u001B[0m Warning: The actor DataWorker is very large (30 MiB). Check that its definition is not implicitly capturing a large array or other object in scope. Tip: use ray.put() to put large objects in the Ray object store.\n"
     ]
    }
   ],
   "source": [
    "lr_ad = 0.43 # best tuned\n",
    "lr_decay = 0\n",
    "its_ad, ts_ad, losses_ad, delays = run(seeds, num_workers, lr=lr_ad, lr_decay=lr_decay, \n",
    "                                       iterations=iterations, asynchronous=True, delay_adaptive=True, \n",
    "                                       it_check=it_check, batch_size=batch_size, one_bad_worker=False)"
   ]
  },
  {
   "cell_type": "code",
   "outputs": [
    {
     "data": {
      "text/plain": "160"
     },
     "execution_count": 43,
     "metadata": {},
     "output_type": "execute_result"
    }
   ],
   "source": [
    "len(losses_)"
   ],
   "metadata": {
    "collapsed": false,
    "ExecuteTime": {
     "end_time": "2024-02-25T06:43:21.795855Z",
     "start_time": "2024-02-25T06:43:21.789734Z"
    }
   },
   "id": "13c21ca243d1fa33",
   "execution_count": 43
  },
  {
   "cell_type": "code",
   "outputs": [
    {
     "data": {
      "text/plain": "160"
     },
     "execution_count": 44,
     "metadata": {},
     "output_type": "execute_result"
    }
   ],
   "source": [
    "len(losses_ad)"
   ],
   "metadata": {
    "collapsed": false,
    "ExecuteTime": {
     "end_time": "2024-02-25T06:43:24.266008Z",
     "start_time": "2024-02-25T06:43:24.262076Z"
    }
   },
   "id": "680b548cb86064a6",
   "execution_count": 44
  },
  {
   "cell_type": "code",
   "execution_count": 45,
   "id": "285e3352-476f-460e-bf33-9fd1c3c216e3",
   "metadata": {
    "ExecuteTime": {
     "end_time": "2024-02-25T06:44:16.294451Z",
     "start_time": "2024-02-25T06:44:16.133750Z"
    }
   },
   "outputs": [
    {
     "data": {
      "text/plain": "Text(0, 0.5, '$F(\\\\mathbf{x}) - F^*$')"
     },
     "execution_count": 45,
     "metadata": {},
     "output_type": "execute_result"
    },
    {
     "data": {
      "text/plain": "<Figure size 900x600 with 1 Axes>",
      "image/png": "[encoded data removed]"
     },
     "metadata": {},
     "output_type": "display_data"
    }
   ],
   "source": [
    "plt.plot(its_ * num_workers, losses_ - f_min, label='Minibatch SGD')\n",
    "plt.plot(its_as, losses_as - f_min, label='Asynchronous SGD')\n",
    "plt.plot(its_ad, losses_ad - f_min, label='Delay-Adaptive AsySGD')\n",
    "plt.yscale('log')\n",
    "plt.legend()\n",
    "plt.xlabel('Number of gradients')\n",
    "plt.ylabel(r'$F(\\mathbf{x}) - F^*$')\n",
    "# plt.savefig(f'quadratic_grads_M_{num_workers}_n={n_data}_dim={dim}_bs_{batch_size}.pdf', bbox_inches='tight')"
   ]
  },
  {
   "cell_type": "code",
   "execution_count": 14,
   "id": "5efc2ab7-aa81-4760-9e76-e8577836beea",
   "metadata": {
    "ExecuteTime": {
     "end_time": "2024-02-19T19:44:58.989816Z",
     "start_time": "2024-02-19T19:44:58.267070Z"
    }
   },
   "outputs": [
    {
     "name": "stderr",
     "output_type": "stream",
     "text": [
      "'created' timestamp seems very low; regarding as unix timestamp\n",
      "'modified' timestamp seems very low; regarding as unix timestamp\n",
      "'created' timestamp seems very low; regarding as unix timestamp\n",
      "'modified' timestamp seems very low; regarding as unix timestamp\n"
     ]
    },
    {
     "data": {
      "text/plain": "<Figure size 900x600 with 1 Axes>",
      "image/png": "[encoded data removed]"
     },
     "metadata": {},
     "output_type": "display_data"
    }
   ],
   "source": [
    "plt.hist(delays, bins=100)\n",
    "plt.axvline(num_workers, color='green', label=r'$M$', linewidth=6)\n",
    "plt.axvline(np.max(delays), color='red', label=r'$\\tau_{\\max}$')\n",
    "plt.xlabel('Delay')\n",
    "plt.ylabel('Frequency')\n",
    "plt.yscale('log')\n",
    "plt.legend()\n",
    "plt.savefig(f'quadratic_delays_M_{num_workers}_n={n_data}_dim={dim}_bs={batch_size}.pdf', bbox_inches='tight')"
   ]
  },
  {
   "cell_type": "code",
   "execution_count": null,
   "id": "7de9cc5c-7ded-47ca-8c36-f064a78a49cc",
   "metadata": {},
   "outputs": [],
   "source": []
  },
  {
   "cell_type": "code",
   "execution_count": null,
   "id": "9eb7aa4a-140f-4e20-b139-82e82599172d",
   "metadata": {},
   "outputs": [],
   "source": []
  },
  {
   "cell_type": "code",
   "execution_count": null,
   "id": "1a1eb446-5cd2-4830-b959-87063843d1f8",
   "metadata": {},
   "outputs": [],
   "source": []
  },
  {
   "cell_type": "code",
   "execution_count": null,
   "id": "c52048f9",
   "metadata": {},
   "outputs": [],
   "source": []
  }
 ],
 "metadata": {
  "kernelspec": {
   "display_name": "Python 3 (ipykernel)",
   "language": "python",
   "name": "python3"
  },
  "language_info": {
   "codemirror_mode": {
    "name": "ipython",
    "version": 3
   },
   "file_extension": ".py",
   "mimetype": "text/x-python",
   "name": "python",
   "nbconvert_exporter": "python",
   "pygments_lexer": "ipython3",
   "version": "3.9.12"
  }
 },
 "nbformat": 4,
 "nbformat_minor": 5
}
